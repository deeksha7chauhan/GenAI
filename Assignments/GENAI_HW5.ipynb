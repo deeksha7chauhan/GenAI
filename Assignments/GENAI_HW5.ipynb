{
  "cells": [
    {
      "cell_type": "code",
      "execution_count": 6,
      "metadata": {
        "colab": {
          "base_uri": "https://localhost:8080/"
        },
        "id": "1TGKUS0KeXQf",
        "outputId": "3a8650c6-1ea1-43a1-f7fa-9fb17dcf28af"
      },
      "outputs": [
        {
          "output_type": "stream",
          "name": "stdout",
          "text": [
            "device: cuda\n"
          ]
        }
      ],
      "source": [
        "import torch, torch.nn as nn, torch.nn.functional as F\n",
        "from torch.utils.data import DataLoader\n",
        "from torchvision import datasets, transforms\n",
        "import numpy as np\n",
        "\n",
        "device = torch.device(\"cuda\" if torch.cuda.is_available() else \"cpu\")\n",
        "print(\"device:\", device)"
      ]
    },
    {
      "cell_type": "markdown",
      "metadata": {
        "id": "sVMW_MaRgasc"
      },
      "source": [
        "normalizing the data to a standard range, such as [0, 1]"
      ]
    },
    {
      "cell_type": "code",
      "execution_count": 4,
      "metadata": {
        "colab": {
          "base_uri": "https://localhost:8080/"
        },
        "id": "cc9_X2sFhJvo",
        "outputId": "23133c50-2255-4263-bbf4-196bc6fb055e"
      },
      "outputs": [
        {
          "output_type": "stream",
          "name": "stderr",
          "text": [
            "100%|██████████| 26.4M/26.4M [00:02<00:00, 10.7MB/s]\n",
            "100%|██████████| 29.5k/29.5k [00:00<00:00, 202kB/s]\n",
            "100%|██████████| 4.42M/4.42M [00:01<00:00, 3.78MB/s]\n",
            "100%|██████████| 5.15k/5.15k [00:00<00:00, 13.8MB/s]\n"
          ]
        }
      ],
      "source": [
        "# FashionMNIST images are 28x28 grayscale; ToTensor() -> [0,1]\n",
        "tfm = transforms.ToTensor()\n",
        "train_ds = datasets.FashionMNIST(root=\"./data\", train=True,  transform=tfm, download=True)\n",
        "test_ds  = datasets.FashionMNIST(root=\"./data\", train=False, transform=tfm, download=True)"
      ]
    },
    {
      "cell_type": "code",
      "execution_count": 5,
      "metadata": {
        "id": "rhmc9e2wexdy"
      },
      "outputs": [],
      "source": [
        "train_loader = DataLoader(train_ds, batch_size=256, shuffle=True)\n",
        "test_loader  = DataLoader(test_ds,  batch_size=256, shuffle=False)"
      ]
    },
    {
      "cell_type": "code",
      "execution_count": 14,
      "metadata": {
        "id": "Y4Tt7ZUUq_sM"
      },
      "outputs": [],
      "source": [
        "# Loss Function  BCE because model output uses Sigmoid\n",
        "loss_fn = nn.BCELoss()\n",
        "learning_rate = 1e-3\n",
        "num_epochs = 30\n",
        "p = 0.3  #drop probability"
      ]
    },
    {
      "cell_type": "markdown",
      "metadata": {
        "id": "DvtEX2hyhrQV"
      },
      "source": [
        "**Fully Connected AutoEncoder** Encoder: Flatten → 256 → latent(64)"
      ]
    },
    {
      "cell_type": "code",
      "execution_count": 8,
      "metadata": {
        "id": "rK7Z1LN5e4qi"
      },
      "outputs": [],
      "source": [
        "class FullyConnectedAutoencoder(nn.Module):\n",
        "    def __init__(self, input_dim, hidden_dim, output_dim):\n",
        "        super().__init__()\n",
        "        self.fc1 = nn.Linear(input_dim, hidden_dim)   #encoder\n",
        "        self.fc2 = nn.Linear(hidden_dim, output_dim)  #decoder\n",
        "    def forward(self, x):\n",
        "        out = self.fc1(x) #encoder\n",
        "        out = F.relu(out) #non-linearity\n",
        "        out = self.fc2(out) #decoder\n",
        "        out = torch.sigmoid(out) #Output: [0,1] pixels\n",
        "        return out"
      ]
    },
    {
      "cell_type": "code",
      "execution_count": 9,
      "metadata": {
        "id": "CgPhXc8_kqP6"
      },
      "outputs": [],
      "source": [
        "input_dim  = 28*28\n",
        "hidden_dim = 128\n",
        "output_dim = input_dim\n",
        "\n",
        "model = FullyConnectedAutoencoder(input_dim, hidden_dim, output_dim).to(device)\n",
        "optimizer = torch.optim.Adam(model.parameters(), lr=learning_rate)"
      ]
    },
    {
      "cell_type": "code",
      "execution_count": 11,
      "metadata": {
        "colab": {
          "base_uri": "https://localhost:8080/"
        },
        "id": "8oP6HpBjuSl2",
        "outputId": "e7a52c81-9409-45b8-e660-333b1d49b8a1"
      },
      "outputs": [
        {
          "output_type": "stream",
          "name": "stdout",
          "text": [
            "Epoch 01 | train loss 0.315 | test clean loss 0.321 | test denoise loss 0.307\n",
            "Epoch 02 | train loss 0.299 | test clean loss 0.329 | test denoise loss 0.297\n",
            "Epoch 03 | train loss 0.293 | test clean loss 0.336 | test denoise loss 0.293\n",
            "Epoch 04 | train loss 0.289 | test clean loss 0.335 | test denoise loss 0.290\n",
            "Epoch 05 | train loss 0.287 | test clean loss 0.327 | test denoise loss 0.288\n",
            "Epoch 06 | train loss 0.285 | test clean loss 0.329 | test denoise loss 0.287\n",
            "Epoch 07 | train loss 0.284 | test clean loss 0.330 | test denoise loss 0.286\n",
            "Epoch 08 | train loss 0.283 | test clean loss 0.333 | test denoise loss 0.285\n",
            "Epoch 09 | train loss 0.282 | test clean loss 0.325 | test denoise loss 0.284\n",
            "Epoch 10 | train loss 0.282 | test clean loss 0.332 | test denoise loss 0.284\n",
            "Epoch 11 | train loss 0.281 | test clean loss 0.327 | test denoise loss 0.283\n",
            "Epoch 12 | train loss 0.281 | test clean loss 0.327 | test denoise loss 0.283\n",
            "Epoch 13 | train loss 0.280 | test clean loss 0.327 | test denoise loss 0.282\n",
            "Epoch 14 | train loss 0.280 | test clean loss 0.325 | test denoise loss 0.282\n",
            "Epoch 15 | train loss 0.280 | test clean loss 0.327 | test denoise loss 0.281\n",
            "Epoch 16 | train loss 0.279 | test clean loss 0.324 | test denoise loss 0.281\n",
            "Epoch 17 | train loss 0.279 | test clean loss 0.329 | test denoise loss 0.281\n",
            "Epoch 18 | train loss 0.279 | test clean loss 0.331 | test denoise loss 0.281\n",
            "Epoch 19 | train loss 0.278 | test clean loss 0.322 | test denoise loss 0.281\n",
            "Epoch 20 | train loss 0.278 | test clean loss 0.319 | test denoise loss 0.281\n",
            "Epoch 21 | train loss 0.278 | test clean loss 0.329 | test denoise loss 0.280\n",
            "Epoch 22 | train loss 0.278 | test clean loss 0.323 | test denoise loss 0.280\n",
            "Epoch 23 | train loss 0.278 | test clean loss 0.326 | test denoise loss 0.280\n",
            "Epoch 24 | train loss 0.277 | test clean loss 0.322 | test denoise loss 0.280\n",
            "Epoch 25 | train loss 0.277 | test clean loss 0.325 | test denoise loss 0.279\n",
            "Epoch 26 | train loss 0.277 | test clean loss 0.323 | test denoise loss 0.279\n",
            "Epoch 27 | train loss 0.277 | test clean loss 0.322 | test denoise loss 0.279\n",
            "Epoch 28 | train loss 0.277 | test clean loss 0.326 | test denoise loss 0.279\n",
            "Epoch 29 | train loss 0.277 | test clean loss 0.333 | test denoise loss 0.279\n",
            "Epoch 30 | train loss 0.277 | test clean loss 0.321 | test denoise loss 0.279\n",
            "Epoch 31 | train loss 0.277 | test clean loss 0.326 | test denoise loss 0.279\n",
            "Epoch 32 | train loss 0.277 | test clean loss 0.322 | test denoise loss 0.279\n",
            "Epoch 33 | train loss 0.276 | test clean loss 0.322 | test denoise loss 0.279\n",
            "Epoch 34 | train loss 0.276 | test clean loss 0.326 | test denoise loss 0.279\n",
            "Epoch 35 | train loss 0.276 | test clean loss 0.321 | test denoise loss 0.278\n",
            "Epoch 36 | train loss 0.276 | test clean loss 0.324 | test denoise loss 0.278\n",
            "Epoch 37 | train loss 0.276 | test clean loss 0.320 | test denoise loss 0.279\n",
            "Epoch 38 | train loss 0.276 | test clean loss 0.314 | test denoise loss 0.279\n",
            "Epoch 39 | train loss 0.276 | test clean loss 0.320 | test denoise loss 0.278\n",
            "Epoch 40 | train loss 0.276 | test clean loss 0.325 | test denoise loss 0.278\n",
            "Epoch 41 | train loss 0.276 | test clean loss 0.325 | test denoise loss 0.278\n",
            "Epoch 42 | train loss 0.276 | test clean loss 0.321 | test denoise loss 0.278\n",
            "Epoch 43 | train loss 0.276 | test clean loss 0.324 | test denoise loss 0.278\n",
            "Epoch 44 | train loss 0.276 | test clean loss 0.319 | test denoise loss 0.278\n",
            "Epoch 45 | train loss 0.276 | test clean loss 0.327 | test denoise loss 0.278\n",
            "Epoch 46 | train loss 0.276 | test clean loss 0.329 | test denoise loss 0.278\n",
            "Epoch 47 | train loss 0.276 | test clean loss 0.330 | test denoise loss 0.278\n",
            "Epoch 48 | train loss 0.276 | test clean loss 0.324 | test denoise loss 0.278\n",
            "Epoch 49 | train loss 0.275 | test clean loss 0.323 | test denoise loss 0.278\n",
            "Epoch 50 | train loss 0.275 | test clean loss 0.321 | test denoise loss 0.278\n"
          ]
        }
      ],
      "source": [
        "for epoch in range(1, num_epochs + 1):\n",
        "    #Train\n",
        "    model.train()\n",
        "    tr_sum = tr_n = 0\n",
        "    for images, _ in train_loader:\n",
        "        images = images.to(device).view(images.size(0), -1)        # (B,784)\n",
        "        mask   = (torch.rand_like(images) > p).float()              # Bernoulli mask\n",
        "        noisy  = images * mask\n",
        "\n",
        "        optimizer.zero_grad(set_to_none=True)\n",
        "        out  = model(noisy)\n",
        "        loss = loss_fn(out, images)\n",
        "        loss.backward()\n",
        "        optimizer.step()\n",
        "\n",
        "        tr_sum += loss.item() * images.size(0)\n",
        "        tr_n   += images.size(0)\n",
        "    tr_loss = tr_sum / tr_n\n",
        "\n",
        "    #Test: report BOTH clean->clean and noisy->clean\n",
        "    model.eval()\n",
        "    te_clean_sum = te_denoise_sum = n = 0\n",
        "    with torch.no_grad():\n",
        "        for images, _ in test_loader:\n",
        "            images = images.to(device).view(images.size(0), -1)\n",
        "\n",
        "            # clean reconstruction\n",
        "            out_clean = model(images)\n",
        "            loss_clean = loss_fn(out_clean, images)\n",
        "\n",
        "            # denoising reconstruction\n",
        "            mask = (torch.rand_like(images) > p).float()\n",
        "            noisy = images * mask\n",
        "            out_noisy = model(noisy)\n",
        "            loss_denoise = loss_fn(out_noisy, images)\n",
        "\n",
        "            bs = images.size(0)\n",
        "            te_clean_sum   += loss_clean.item()   * bs\n",
        "            te_denoise_sum += loss_denoise.item() * bs\n",
        "            n += bs\n",
        "\n",
        "    te_clean   = te_clean_sum / n\n",
        "    te_denoise = te_denoise_sum / n\n",
        "\n",
        "    print(f\"Epoch {epoch:02d} | train loss {tr_loss:.3f} | test clean loss {te_clean:.3f} | test denoise loss {te_denoise:.3f}\")"
      ]
    },
    {
      "cell_type": "markdown",
      "metadata": {
        "id": "ExvigqwguZ8-"
      },
      "source": [
        "**CNN-AE**"
      ]
    },
    {
      "cell_type": "code",
      "execution_count": 12,
      "metadata": {
        "id": "IwSs1jxnuZXd"
      },
      "outputs": [],
      "source": [
        "class CNNAutoencoder(nn.Module):\n",
        "    def __init__(self):\n",
        "        super().__init__()\n",
        "        self.enc = nn.Sequential( # 28x28 -> 14x14 -> 7x7\n",
        "            nn.Conv2d(1, 16, 3, padding=1), nn.ReLU(True),\n",
        "            nn.MaxPool2d(2),                                #28->14\n",
        "            nn.Conv2d(16, 32, 3, padding=1), nn.ReLU(True),\n",
        "            nn.MaxPool2d(2),                                # 14->7\n",
        "        )\n",
        "        # 7x7 -> 14x14 -> 28x28\n",
        "        self.dec = nn.Sequential(\n",
        "            nn.ConvTranspose2d(32, 16, 2, stride=2), nn.ReLU(True),  # 7->14\n",
        "            nn.ConvTranspose2d(16,  1, 2, stride=2),                 # 14->28\n",
        "            nn.Sigmoid()\n",
        "        )\n",
        "    def forward(self, x):\n",
        "        z = self.enc(x)\n",
        "        x_hat = self.dec(z)\n",
        "        return x_hat\n",
        "model_cnn = CNNAutoencoder().to(device)\n",
        "optimizer = torch.optim.Adam(model_cnn.parameters(), lr=learning_rate)"
      ]
    },
    {
      "cell_type": "code",
      "execution_count": 13,
      "metadata": {
        "colab": {
          "base_uri": "https://localhost:8080/"
        },
        "id": "u_XFS9Z1t0xy",
        "outputId": "7dbed515-dc8a-47d5-c4e5-dd1f49a40b5b"
      },
      "outputs": [
        {
          "output_type": "stream",
          "name": "stdout",
          "text": [
            "[CNN-AE] Epoch 01 | train 0.4041 | test 0.3075\n",
            "[CNN-AE] Epoch 02 | train 0.2943 | test 0.2899\n",
            "[CNN-AE] Epoch 03 | train 0.2854 | test 0.2834\n",
            "[CNN-AE] Epoch 04 | train 0.2809 | test 0.2803\n",
            "[CNN-AE] Epoch 05 | train 0.2785 | test 0.2781\n",
            "[CNN-AE] Epoch 06 | train 0.2769 | test 0.2766\n",
            "[CNN-AE] Epoch 07 | train 0.2757 | test 0.2756\n",
            "[CNN-AE] Epoch 08 | train 0.2748 | test 0.2746\n",
            "[CNN-AE] Epoch 09 | train 0.2740 | test 0.2739\n",
            "[CNN-AE] Epoch 10 | train 0.2733 | test 0.2733\n",
            "[CNN-AE] Epoch 11 | train 0.2728 | test 0.2728\n",
            "[CNN-AE] Epoch 12 | train 0.2723 | test 0.2721\n",
            "[CNN-AE] Epoch 13 | train 0.2718 | test 0.2717\n",
            "[CNN-AE] Epoch 14 | train 0.2714 | test 0.2712\n",
            "[CNN-AE] Epoch 15 | train 0.2710 | test 0.2707\n",
            "[CNN-AE] Epoch 16 | train 0.2707 | test 0.2703\n",
            "[CNN-AE] Epoch 17 | train 0.2704 | test 0.2701\n",
            "[CNN-AE] Epoch 18 | train 0.2701 | test 0.2696\n",
            "[CNN-AE] Epoch 19 | train 0.2698 | test 0.2695\n",
            "[CNN-AE] Epoch 20 | train 0.2696 | test 0.2691\n",
            "[CNN-AE] Epoch 21 | train 0.2694 | test 0.2692\n",
            "[CNN-AE] Epoch 22 | train 0.2692 | test 0.2688\n",
            "[CNN-AE] Epoch 23 | train 0.2690 | test 0.2685\n",
            "[CNN-AE] Epoch 24 | train 0.2688 | test 0.2684\n",
            "[CNN-AE] Epoch 25 | train 0.2687 | test 0.2683\n",
            "[CNN-AE] Epoch 26 | train 0.2685 | test 0.2679\n",
            "[CNN-AE] Epoch 27 | train 0.2683 | test 0.2679\n",
            "[CNN-AE] Epoch 28 | train 0.2682 | test 0.2678\n",
            "[CNN-AE] Epoch 29 | train 0.2681 | test 0.2678\n",
            "[CNN-AE] Epoch 30 | train 0.2679 | test 0.2675\n",
            "[CNN-AE] Epoch 31 | train 0.2678 | test 0.2675\n",
            "[CNN-AE] Epoch 32 | train 0.2677 | test 0.2670\n",
            "[CNN-AE] Epoch 33 | train 0.2676 | test 0.2672\n",
            "[CNN-AE] Epoch 34 | train 0.2675 | test 0.2670\n",
            "[CNN-AE] Epoch 35 | train 0.2674 | test 0.2668\n",
            "[CNN-AE] Epoch 36 | train 0.2673 | test 0.2666\n",
            "[CNN-AE] Epoch 37 | train 0.2672 | test 0.2667\n",
            "[CNN-AE] Epoch 38 | train 0.2671 | test 0.2665\n",
            "[CNN-AE] Epoch 39 | train 0.2671 | test 0.2665\n",
            "[CNN-AE] Epoch 40 | train 0.2670 | test 0.2665\n",
            "[CNN-AE] Epoch 41 | train 0.2669 | test 0.2665\n",
            "[CNN-AE] Epoch 42 | train 0.2669 | test 0.2662\n",
            "[CNN-AE] Epoch 43 | train 0.2668 | test 0.2663\n",
            "[CNN-AE] Epoch 44 | train 0.2668 | test 0.2662\n",
            "[CNN-AE] Epoch 45 | train 0.2666 | test 0.2663\n",
            "[CNN-AE] Epoch 46 | train 0.2666 | test 0.2660\n",
            "[CNN-AE] Epoch 47 | train 0.2666 | test 0.2661\n",
            "[CNN-AE] Epoch 48 | train 0.2665 | test 0.2659\n",
            "[CNN-AE] Epoch 49 | train 0.2665 | test 0.2660\n",
            "[CNN-AE] Epoch 50 | train 0.2664 | test 0.2661\n"
          ]
        }
      ],
      "source": [
        "for epoch in range(1, num_epochs + 1):\n",
        "    #train (noisy -> clean)\n",
        "    model_cnn.train()\n",
        "    tr_sum = tr_n = 0\n",
        "    for images, _ in train_loader:\n",
        "        images = images.to(device)                           # (B,1,28,28)\n",
        "        mask   = (torch.rand_like(images) > p).float()\n",
        "        noisy  = images * mask\n",
        "\n",
        "        optimizer.zero_grad()\n",
        "        out  = model_cnn(noisy)\n",
        "        loss = loss_fn(out, images)\n",
        "        loss.backward()\n",
        "        optimizer.step()\n",
        "\n",
        "        tr_sum += loss.item() * images.size(0); tr_n += images.size(0)\n",
        "    tr_loss = tr_sum / tr_n\n",
        "\n",
        "    #test (clean)\n",
        "    model_cnn.eval()\n",
        "    te_sum = te_n = 0\n",
        "    with torch.no_grad():\n",
        "        for images, _ in test_loader:\n",
        "            images = images.to(device)\n",
        "            out  = model_cnn(images)\n",
        "            loss = loss_fn(out, images)\n",
        "            te_sum += loss.item() * images.size(0); te_n += images.size(0)\n",
        "    te_loss = te_sum / te_n\n",
        "\n",
        "    print(f\"[CNN-AE] Epoch {epoch:02d} | train {tr_loss:.4f} | test {te_loss:.4f}\")"
      ]
    },
    {
      "cell_type": "markdown",
      "metadata": {
        "id": "sYoZiRXpyO3B"
      },
      "source": [
        "**Sparse AE**"
      ]
    },
    {
      "cell_type": "code",
      "execution_count": 16,
      "metadata": {
        "colab": {
          "base_uri": "https://localhost:8080/"
        },
        "id": "7lxxgAuEt8e3",
        "outputId": "37d48054-92d6-4a15-e82b-b54438ab48be"
      },
      "outputs": [
        {
          "output_type": "stream",
          "name": "stdout",
          "text": [
            "[Sparse-AE] Epoch 01 | train 0.391 | test 0.335\n",
            "[Sparse-AE] Epoch 02 | train 0.318 | test 0.324\n",
            "[Sparse-AE] Epoch 03 | train 0.301 | test 0.330\n",
            "[Sparse-AE] Epoch 04 | train 0.294 | test 0.338\n",
            "[Sparse-AE] Epoch 05 | train 0.291 | test 0.330\n",
            "[Sparse-AE] Epoch 06 | train 0.288 | test 0.327\n",
            "[Sparse-AE] Epoch 07 | train 0.287 | test 0.333\n",
            "[Sparse-AE] Epoch 08 | train 0.285 | test 0.330\n",
            "[Sparse-AE] Epoch 09 | train 0.284 | test 0.336\n",
            "[Sparse-AE] Epoch 10 | train 0.284 | test 0.343\n",
            "[Sparse-AE] Epoch 11 | train 0.283 | test 0.331\n",
            "[Sparse-AE] Epoch 12 | train 0.282 | test 0.328\n",
            "[Sparse-AE] Epoch 13 | train 0.282 | test 0.325\n",
            "[Sparse-AE] Epoch 14 | train 0.281 | test 0.333\n",
            "[Sparse-AE] Epoch 15 | train 0.281 | test 0.331\n",
            "[Sparse-AE] Epoch 16 | train 0.280 | test 0.322\n",
            "[Sparse-AE] Epoch 17 | train 0.280 | test 0.326\n",
            "[Sparse-AE] Epoch 18 | train 0.280 | test 0.324\n",
            "[Sparse-AE] Epoch 19 | train 0.280 | test 0.323\n",
            "[Sparse-AE] Epoch 20 | train 0.279 | test 0.323\n",
            "[Sparse-AE] Epoch 21 | train 0.279 | test 0.331\n",
            "[Sparse-AE] Epoch 22 | train 0.279 | test 0.324\n",
            "[Sparse-AE] Epoch 23 | train 0.279 | test 0.320\n",
            "[Sparse-AE] Epoch 24 | train 0.278 | test 0.328\n",
            "[Sparse-AE] Epoch 25 | train 0.278 | test 0.323\n",
            "[Sparse-AE] Epoch 26 | train 0.278 | test 0.323\n",
            "[Sparse-AE] Epoch 27 | train 0.278 | test 0.325\n",
            "[Sparse-AE] Epoch 28 | train 0.278 | test 0.327\n",
            "[Sparse-AE] Epoch 29 | train 0.278 | test 0.322\n",
            "[Sparse-AE] Epoch 30 | train 0.278 | test 0.318\n"
          ]
        }
      ],
      "source": [
        "class SparseAutoencoder(nn.Module):\n",
        "    def __init__(self, input_dim=28*28, hidden_dim=128, output_dim=28*28, l1_lambda=1e-3):\n",
        "        super().__init__()\n",
        "        self.fc1 = nn.Linear(input_dim, hidden_dim)\n",
        "        self.fc2 = nn.Linear(hidden_dim, output_dim)\n",
        "        self.l1_lambda = l1_lambda\n",
        "    def forward(self, x):\n",
        "        h   = F.relu(self.fc1(x))      # latent\n",
        "        out = torch.sigmoid(self.fc2(h))\n",
        "        return out, h\n",
        "\n",
        "model_sparse = SparseAutoencoder(l1_lambda=1e-3).to(device)\n",
        "optimizer = torch.optim.Adam(model_sparse.parameters(), lr=learning_rate)\n",
        "\n",
        "for epoch in range(1, num_epochs + 1):\n",
        "    model_sparse.train()\n",
        "    tr_sum = tr_n = 0\n",
        "    for images, _ in train_loader:\n",
        "        images = images.to(device).view(images.size(0), -1)\n",
        "        mask   = (torch.rand_like(images) > p).float()\n",
        "        noisy  = images * mask\n",
        "\n",
        "        optimizer.zero_grad()\n",
        "        out, h = model_sparse(noisy)\n",
        "        loss = loss_fn(out, images) + model_sparse.l1_lambda * h.abs().mean()\n",
        "        loss.backward()\n",
        "        optimizer.step()\n",
        "\n",
        "        tr_sum += loss.item() * images.size(0); tr_n += images.size(0)\n",
        "    tr_loss = tr_sum / tr_n\n",
        "\n",
        "    model_sparse.eval()\n",
        "    te_sum = te_n = 0\n",
        "    with torch.no_grad():\n",
        "        for images, _ in test_loader:\n",
        "            images = images.to(device).view(images.size(0), -1)\n",
        "            out, _ = model_sparse(images)\n",
        "            loss = loss_fn(out, images)\n",
        "            te_sum += loss.item() * images.size(0); te_n += images.size(0)\n",
        "    te_loss = te_sum / te_n\n",
        "\n",
        "    print(f\"[Sparse-AE] Epoch {epoch:02d} | train {tr_loss:.3f} | test {te_loss:.3f}\")\n"
      ]
    },
    {
      "cell_type": "markdown",
      "metadata": {
        "id": "IR-2ZJ5xyUAc"
      },
      "source": [
        "**RNN- AE**"
      ]
    },
    {
      "cell_type": "code",
      "execution_count": 17,
      "metadata": {
        "colab": {
          "base_uri": "https://localhost:8080/"
        },
        "id": "OORxkIoJvIO8",
        "outputId": "0f693a6a-66b2-4a6a-8cd5-e81318b1b6cb"
      },
      "outputs": [
        {
          "output_type": "stream",
          "name": "stdout",
          "text": [
            "[RNN-AE] Epoch 01 | train 0.519 | test 0.493\n",
            "[RNN-AE] Epoch 02 | train 0.456 | test 0.402\n",
            "[RNN-AE] Epoch 03 | train 0.360 | test 0.385\n",
            "[RNN-AE] Epoch 04 | train 0.341 | test 0.366\n",
            "[RNN-AE] Epoch 05 | train 0.328 | test 0.371\n",
            "[RNN-AE] Epoch 06 | train 0.318 | test 0.355\n",
            "[RNN-AE] Epoch 07 | train 0.313 | test 0.358\n",
            "[RNN-AE] Epoch 08 | train 0.309 | test 0.353\n",
            "[RNN-AE] Epoch 09 | train 0.307 | test 0.349\n",
            "[RNN-AE] Epoch 10 | train 0.305 | test 0.357\n",
            "[RNN-AE] Epoch 11 | train 0.303 | test 0.352\n",
            "[RNN-AE] Epoch 12 | train 0.302 | test 0.352\n",
            "[RNN-AE] Epoch 13 | train 0.300 | test 0.351\n",
            "[RNN-AE] Epoch 14 | train 0.299 | test 0.356\n",
            "[RNN-AE] Epoch 15 | train 0.297 | test 0.350\n",
            "[RNN-AE] Epoch 16 | train 0.296 | test 0.347\n",
            "[RNN-AE] Epoch 17 | train 0.295 | test 0.347\n",
            "[RNN-AE] Epoch 18 | train 0.294 | test 0.336\n",
            "[RNN-AE] Epoch 19 | train 0.293 | test 0.347\n",
            "[RNN-AE] Epoch 20 | train 0.292 | test 0.344\n",
            "[RNN-AE] Epoch 21 | train 0.292 | test 0.350\n",
            "[RNN-AE] Epoch 22 | train 0.291 | test 0.341\n",
            "[RNN-AE] Epoch 23 | train 0.290 | test 0.342\n",
            "[RNN-AE] Epoch 24 | train 0.289 | test 0.350\n",
            "[RNN-AE] Epoch 25 | train 0.289 | test 0.342\n",
            "[RNN-AE] Epoch 26 | train 0.288 | test 0.339\n",
            "[RNN-AE] Epoch 27 | train 0.287 | test 0.336\n",
            "[RNN-AE] Epoch 28 | train 0.287 | test 0.339\n",
            "[RNN-AE] Epoch 29 | train 0.287 | test 0.339\n",
            "[RNN-AE] Epoch 30 | train 0.286 | test 0.335\n"
          ]
        }
      ],
      "source": [
        "class RNNAutoencoder(nn.Module):\n",
        "    def __init__(self, hidden=128):\n",
        "        super().__init__()\n",
        "        self.enc = nn.LSTM(input_size=28, hidden_size=hidden, batch_first=True)\n",
        "        self.dec = nn.LSTM(input_size=28, hidden_size=hidden, batch_first=True)\n",
        "        self.out = nn.Linear(hidden, 28)\n",
        "    def forward(self, x_seq):\n",
        "        # x_seq: (B,28,28)\n",
        "        _, (h, c) = self.enc(x_seq)             # h: (1,B,H)\n",
        "        dec_h, dec_c = h, torch.zeros_like(h)   # init decoder state\n",
        "        dec_in = torch.zeros_like(x_seq)        # teacher-forcing zeros\n",
        "        y, _ = self.dec(dec_in, (dec_h, dec_c)) # (B,28,H)\n",
        "        x_hat = torch.sigmoid(self.out(y)).unsqueeze(1)  # (B,1,28,28)\n",
        "        return x_hat\n",
        "\n",
        "model_rnn = RNNAutoencoder(hidden=128).to(device)\n",
        "optimizer = torch.optim.Adam(model_rnn.parameters(), lr=learning_rate)\n",
        "\n",
        "for epoch in range(1, num_epochs + 1):\n",
        "    model_rnn.train()\n",
        "    tr_sum = tr_n = 0\n",
        "    for images, _ in train_loader:\n",
        "        images = images.to(device)                  # (B,1,28,28)\n",
        "        seq    = images.squeeze(1)                  # (B,28,28)\n",
        "        mask   = (torch.rand_like(seq) > p).float()\n",
        "        noisy  = seq * mask\n",
        "\n",
        "        optimizer.zero_grad()\n",
        "        out  = model_rnn(noisy)                     # (B,1,28,28)\n",
        "        loss = loss_fn(out, images)\n",
        "        loss.backward()\n",
        "        optimizer.step()\n",
        "\n",
        "        tr_sum += loss.item() * images.size(0); tr_n += images.size(0)\n",
        "    tr_loss = tr_sum / tr_n\n",
        "\n",
        "    model_rnn.eval()\n",
        "    te_sum = te_n = 0\n",
        "    with torch.no_grad():\n",
        "        for images, _ in test_loader:\n",
        "            images = images.to(device)\n",
        "            seq    = images.squeeze(1)\n",
        "            out  = model_rnn(seq)\n",
        "            loss = loss_fn(out, images)\n",
        "            te_sum += loss.item() * images.size(0); te_n += images.size(0)\n",
        "    te_loss = te_sum / te_n\n",
        "\n",
        "    print(f\"[RNN-AE] Epoch {epoch:02d} | train {tr_loss:.3f} | test {te_loss:.3f}\")\n"
      ]
    },
    {
      "cell_type": "markdown",
      "metadata": {
        "id": "0jZRd1zc0EXH"
      },
      "source": [
        "**Variational (VAE)**"
      ]
    },
    {
      "cell_type": "code",
      "execution_count": 18,
      "metadata": {
        "colab": {
          "base_uri": "https://localhost:8080/"
        },
        "id": "QXdINMse395k",
        "outputId": "76ee56dc-5465-4857-b9e2-2d10a9c623dc"
      },
      "outputs": [
        {
          "output_type": "stream",
          "name": "stdout",
          "text": [
            "[VAE] Epoch 01 | train 312.532 | test 283.833\n",
            "[VAE] Epoch 02 | train 279.259 | test 278.807\n",
            "[VAE] Epoch 03 | train 274.793 | test 274.452\n",
            "[VAE] Epoch 04 | train 272.230 | test 272.666\n",
            "[VAE] Epoch 05 | train 270.701 | test 271.790\n",
            "[VAE] Epoch 06 | train 269.420 | test 270.202\n",
            "[VAE] Epoch 07 | train 268.514 | test 269.198\n",
            "[VAE] Epoch 08 | train 267.603 | test 268.695\n",
            "[VAE] Epoch 09 | train 266.833 | test 267.650\n",
            "[VAE] Epoch 10 | train 266.265 | test 267.476\n",
            "[VAE] Epoch 11 | train 265.651 | test 266.754\n",
            "[VAE] Epoch 12 | train 265.272 | test 266.787\n",
            "[VAE] Epoch 13 | train 264.789 | test 266.358\n",
            "[VAE] Epoch 14 | train 264.517 | test 266.040\n",
            "[VAE] Epoch 15 | train 264.182 | test 265.506\n",
            "[VAE] Epoch 16 | train 263.910 | test 265.898\n",
            "[VAE] Epoch 17 | train 263.690 | test 265.246\n",
            "[VAE] Epoch 18 | train 263.422 | test 265.282\n",
            "[VAE] Epoch 19 | train 263.226 | test 264.833\n",
            "[VAE] Epoch 20 | train 263.002 | test 264.508\n",
            "[VAE] Epoch 21 | train 262.823 | test 264.557\n",
            "[VAE] Epoch 22 | train 262.615 | test 264.221\n",
            "[VAE] Epoch 23 | train 262.475 | test 264.450\n",
            "[VAE] Epoch 24 | train 262.359 | test 265.038\n",
            "[VAE] Epoch 25 | train 262.180 | test 263.967\n",
            "[VAE] Epoch 26 | train 261.976 | test 263.732\n",
            "[VAE] Epoch 27 | train 261.918 | test 263.420\n",
            "[VAE] Epoch 28 | train 261.847 | test 263.435\n",
            "[VAE] Epoch 29 | train 261.719 | test 263.417\n",
            "[VAE] Epoch 30 | train 261.627 | test 263.261\n"
          ]
        }
      ],
      "source": [
        "class VAE(nn.Module):\n",
        "    def __init__(self, latent=2):\n",
        "        super().__init__()\n",
        "        self.fc1 = nn.Linear(28*28, 256)\n",
        "        self.fc_mu = nn.Linear(256, latent)\n",
        "        self.fc_logvar = nn.Linear(256, latent)\n",
        "        self.fc3 = nn.Linear(latent, 256)\n",
        "        self.fc4 = nn.Linear(256, 28*28)\n",
        "    def encode(self, x):\n",
        "        h = F.relu(self.fc1(x))\n",
        "        return self.fc_mu(h), self.fc_logvar(h)\n",
        "    def reparam(self, mu, logvar):\n",
        "        std = torch.exp(0.5 * logvar)\n",
        "        eps = torch.randn_like(std)\n",
        "        return mu + eps * std\n",
        "    def decode(self, z):\n",
        "        h = F.relu(self.fc3(z))\n",
        "        return torch.sigmoid(self.fc4(h))\n",
        "    def forward(self, x_flat):\n",
        "        mu, logvar = self.encode(x_flat)\n",
        "        z = self.reparam(mu, logvar)\n",
        "        x_hat = self.decode(z)\n",
        "        return x_hat, mu, logvar\n",
        "\n",
        "model_vae = VAE(latent=2).to(device)\n",
        "optimizer = torch.optim.Adam(model_vae.parameters(), lr=learning_rate)\n",
        "\n",
        "for epoch in range(1, num_epochs + 1):\n",
        "    # Train\n",
        "    model_vae.train()\n",
        "    tr_sum = tr_n = 0\n",
        "    for images, _ in train_loader:\n",
        "        images = images.to(device).view(images.size(0), -1)  # (B,784)\n",
        "        optimizer.zero_grad()\n",
        "        x_hat, mu, logvar = model_vae(images)\n",
        "        recon = torch.nn.functional.binary_cross_entropy(x_hat, images, reduction=\"sum\")\n",
        "        kld   = -0.5 * torch.sum(1 + logvar - mu.pow(2) - logvar.exp())\n",
        "        loss  = (recon + kld) / images.size(0)               # average per batch\n",
        "        loss.backward()\n",
        "        optimizer.step()\n",
        "        tr_sum += loss.item() * images.size(0); tr_n += images.size(0)\n",
        "    tr_loss = tr_sum / tr_n\n",
        "\n",
        "    # test\n",
        "    model_vae.eval()\n",
        "    te_sum = te_n = 0\n",
        "    with torch.no_grad():\n",
        "        for images, _ in test_loader:\n",
        "            images = images.to(device).view(images.size(0), -1)\n",
        "            x_hat, mu, logvar = model_vae(images)\n",
        "            recon = torch.nn.functional.binary_cross_entropy(x_hat, images, reduction=\"sum\")\n",
        "            kld   = -0.5 * torch.sum(1 + logvar - mu.pow(2) - logvar.exp())\n",
        "            loss  = (recon + kld) / images.size(0)\n",
        "            te_sum += loss.item() * images.size(0); te_n += images.size(0)\n",
        "    te_loss = te_sum / te_n\n",
        "\n",
        "    print(f\"[VAE] Epoch {epoch:02d} | train {tr_loss:.3f} | test {te_loss:.3f}\")\n"
      ]
    },
    {
      "cell_type": "code",
      "execution_count": 19,
      "metadata": {
        "id": "jbeZQ1SJx1vJ",
        "colab": {
          "base_uri": "https://localhost:8080/",
          "height": 807
        },
        "outputId": "362d670a-6f59-4e09-e237-4b9bf84910d3"
      },
      "outputs": [
        {
          "output_type": "display_data",
          "data": {
            "text/plain": [
              "<Figure size 1400x800 with 48 Axes>"
            ],
            "image/png": "[encoded data removed]"
          },
          "metadata": {}
        }
      ],
      "source": [
        "import matplotlib.pyplot as plt\n",
        "\n",
        "#small batch\n",
        "model.eval()\n",
        "model_cnn.eval()\n",
        "model_sparse.eval()\n",
        "model_rnn.eval()\n",
        "model_vae.eval()\n",
        "\n",
        "with torch.no_grad():\n",
        "    images, _ = next(iter(test_loader))\n",
        "    images = images[:8].to(device)  # 8 samples\n",
        "    flat   = images.view(images.size(0), -1)\n",
        "\n",
        "    rec_fcae   = model(flat).view(-1,1,28,28).cpu()\n",
        "    rec_cnn    = model_cnn(images).cpu()\n",
        "    rec_sparse = model_sparse(flat)[0].view(-1,1,28,28).cpu()\n",
        "    rec_rnn    = model_rnn(images.squeeze(1)).cpu()\n",
        "    rec_vae    = model_vae(flat)[0].view(-1,1,28,28).cpu()\n",
        "\n",
        "orig = images.cpu()\n",
        "\n",
        "titles = [\"Original\", \"FCAE\", \"CNN-AE\", \"Sparse-AE\", \"RNN-AE\", \"VAE\"]\n",
        "rows = 2\n",
        "cols = 8\n",
        "fig, axs = plt.subplots(len(titles), 8, figsize=(14, 8))\n",
        "for i in range(8):\n",
        "    axs[0, i].imshow(orig[i,0], cmap='gray'); axs[0, i].axis('off'); axs[0, i].set_title(titles[0])\n",
        "    axs[1, i].imshow(rec_fcae[i,0], cmap='gray'); axs[1, i].axis('off'); axs[1, i].set_title(titles[1])\n",
        "    axs[2, i].imshow(rec_cnn[i,0], cmap='gray'); axs[2, i].axis('off'); axs[2, i].set_title(titles[2])\n",
        "    axs[3, i].imshow(rec_sparse[i,0], cmap='gray'); axs[3, i].axis('off'); axs[3, i].set_title(titles[3])\n",
        "    axs[4, i].imshow(rec_rnn[i,0], cmap='gray'); axs[4, i].axis('off'); axs[4, i].set_title(titles[4])\n",
        "    axs[5, i].imshow(rec_vae[i,0], cmap='gray'); axs[5, i].axis('off'); axs[5, i].set_title(titles[5])\n",
        "\n",
        "plt.tight_layout(); plt.show()\n"
      ]
    }
  ],
  "metadata": {
    "accelerator": "GPU",
    "colab": {
      "gpuType": "A100",
      "provenance": []
    },
    "kernelspec": {
      "display_name": "Python 3",
      "name": "python3"
    },
    "language_info": {
      "name": "python"
    }
  },
  "nbformat": 4,
  "nbformat_minor": 0
}