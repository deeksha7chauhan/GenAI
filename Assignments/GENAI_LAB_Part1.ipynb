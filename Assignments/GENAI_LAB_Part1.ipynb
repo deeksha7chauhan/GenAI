{
  "nbformat": 4,
  "nbformat_minor": 0,
  "metadata": {
    "colab": {
      "provenance": [],
      "gpuType": "T4"
    },
    "kernelspec": {
      "name": "python3",
      "display_name": "Python 3"
    },
    "language_info": {
      "name": "python"
    },
    "accelerator": "GPU"
  },
  "cells": [
    {
      "cell_type": "code",
      "source": [
        "import csv\n",
        "import re\n",
        "import string\n",
        "import numpy as np\n",
        "import pandas as pd\n",
        "import torch\n",
        "import torch.nn as nn\n",
        "import torch.optim as optim\n",
        "from sklearn.metrics import accuracy_score, precision_recall_fscore_support, classification_report, confusion_matrix\n",
        "from sklearn.feature_extraction.text import ENGLISH_STOP_WORDS\n",
        "from tensorflow.keras.preprocessing.text import Tokenizer\n",
        "from tensorflow.keras.preprocessing.sequence import pad_sequences\n",
        "from tensorflow.keras.models import Sequential\n",
        "from tensorflow.keras.layers import Embedding, Bidirectional, LSTM, Dense\n",
        "DEVICE = torch.device('cuda' if torch.cuda.is_available() else 'cpu')"
      ],
      "metadata": {
        "id": "Jh_-VZykxXgu"
      },
      "execution_count": 2,
      "outputs": []
    },
    {
      "cell_type": "code",
      "source": [
        "train_path = \"/content/train.csv\"\n",
        "test_path  = \"/content/test.csv\""
      ],
      "metadata": {
        "id": "37BDX_6p1YDu"
      },
      "execution_count": 3,
      "outputs": []
    },
    {
      "cell_type": "code",
      "source": [
        "with open(train_path, 'r') as f:\n",
        "    for i in range(10):\n",
        "        print(f.readline())"
      ],
      "metadata": {
        "id": "J8Gc34Hbr7gG",
        "colab": {
          "base_uri": "https://localhost:8080/"
        },
        "outputId": "1c2f0532-cb07-4478-8057-b58b5dbabcc9"
      },
      "execution_count": 4,
      "outputs": [
        {
          "output_type": "stream",
          "name": "stdout",
          "text": [
            "\"2\",\"Stuning even for the non-gamer\",\"This sound track was beautiful! It paints the senery in your mind so well I would recomend it even to people who hate vid. game music! I have played the game Chrono Cross but out of all of the games I have ever played it has the best music! It backs away from crude keyboarding and takes a fresher step with grate guitars and soulful orchestras. It would impress anyone who cares to listen! ^_^\"\n",
            "\n",
            "\"2\",\"The best soundtrack ever to anything.\",\"I'm reading a lot of reviews saying that this is the best 'game soundtrack' and I figured that I'd write a review to disagree a bit. This in my opinino is Yasunori Mitsuda's ultimate masterpiece. The music is timeless and I'm been listening to it for years now and its beauty simply refuses to fade.The price tag on this is pretty staggering I must say, but if you are going to buy any cd for this much money, this is the only one that I feel would be worth every penny.\"\n",
            "\n",
            "\"2\",\"Amazing!\",\"This soundtrack is my favorite music of all time, hands down. The intense sadness of \"\"Prisoners of Fate\"\" (which means all the more if you've played the game) and the hope in \"\"A Distant Promise\"\" and \"\"Girl who Stole the Star\"\" have been an important inspiration to me personally throughout my teen years. The higher energy tracks like \"\"Chrono Cross ~ Time's Scar~\"\", \"\"Time of the Dreamwatch\"\", and \"\"Chronomantique\"\" (indefinably remeniscent of Chrono Trigger) are all absolutely superb as well.This soundtrack is amazing music, probably the best of this composer's work (I haven't heard the Xenogears soundtrack, so I can't say for sure), and even if you've never played the game, it would be worth twice the price to buy it.I wish I could give it 6 stars.\"\n",
            "\n",
            "\"2\",\"Excellent Soundtrack\",\"I truly like this soundtrack and I enjoy video game music. I have played this game and most of the music on here I enjoy and it's truly relaxing and peaceful.On disk one. my favorites are Scars Of Time, Between Life and Death, Forest Of Illusion, Fortress of Ancient Dragons, Lost Fragment, and Drowned Valley.Disk Two: The Draggons, Galdorb - Home, Chronomantique, Prisoners of Fate, Gale, and my girlfriend likes ZelbessDisk Three: The best of the three. Garden Of God, Chronopolis, Fates, Jellyfish sea, Burning Orphange, Dragon's Prayer, Tower Of Stars, Dragon God, and Radical Dreamers - Unstealable Jewel.Overall, this is a excellent soundtrack and should be brought by those that like video game music.Xander Cross\"\n",
            "\n",
            "\"2\",\"Remember, Pull Your Jaw Off The Floor After Hearing it\",\"If you've played the game, you know how divine the music is! Every single song tells a story of the game, it's that good! The greatest songs are without a doubt, Chrono Cross: Time's Scar, Magical Dreamers: The Wind, The Stars, and the Sea and Radical Dreamers: Unstolen Jewel. (Translation varies) This music is perfect if you ask me, the best it can be. Yasunori Mitsuda just poured his heart on and wrote it down on paper.\"\n",
            "\n",
            "\"2\",\"an absolute masterpiece\",\"I am quite sure any of you actually taking the time to read this have played the game at least once, and heard at least a few of the tracks here. And whether you were aware of it or not, Mitsuda's music contributed greatly to the mood of every single minute of the whole game.Composed of 3 CDs and quite a few songs (I haven't an exact count), all of which are heart-rendering and impressively remarkable, this soundtrack is one I assure you you will not forget. It has everything for every listener -- from fast-paced and energetic (Dancing the Tokage or Termina Home), to slower and more haunting (Dragon God), to purely beautifully composed (Time's Scar), to even some fantastic vocals (Radical Dreamers).This is one of the best videogame soundtracks out there, and surely Mitsuda's best ever. ^_^\"\n",
            "\n",
            "\"1\",\"Buyer beware\",\"This is a self-published book, and if you want to know why--read a few paragraphs! Those 5 star reviews must have been written by Ms. Haddon's family and friends--or perhaps, by herself! I can't imagine anyone reading the whole thing--I spent an evening with the book and a friend and we were in hysterics reading bits and pieces of it to one another. It is most definitely bad enough to be entered into some kind of a \"\"worst book\"\" contest. I can't believe Amazon even sells this kind of thing. Maybe I can offer them my 8th grade term paper on \"\"To Kill a Mockingbird\"\"--a book I am quite sure Ms. Haddon never heard of. Anyway, unless you are in a mood to send a book to someone as a joke---stay far, far away from this one!\"\n",
            "\n",
            "\"2\",\"Glorious story\",\"I loved Whisper of the wicked saints. The story was amazing and I was pleasantly surprised at the changes in the book. I am not normaly someone who is into romance novels, but the world was raving about this book and so I bought it. I loved it !! This is a brilliant story because it is so true. This book was so wonderful that I have told all of my friends to read it. It is not a typical romance, it is so much more. Not reading this book is a crime, becuase you are missing out on a heart warming story.\"\n",
            "\n",
            "\"2\",\"A FIVE STAR BOOK\",\"I just finished reading Whisper of the Wicked saints. I fell in love with the caracters. I expected an average romance read, but instead I found one of my favorite books of all time. Just when I thought I could predict the outcome I was shocked ! The writting was so descriptive that my heart broke when Julia's did and I felt as if I was there with them instead of just a distant reader. If you are a lover of romance novels then this is a must read. Don't let the cover fool you this book is spectacular!\"\n",
            "\n",
            "\"2\",\"Whispers of the Wicked Saints\",\"This was a easy to read book that made me want to keep reading on and on, not easy to put down.It left me wanting to read the follow on, which I hope is coming soon. I used to read a lot but have gotten away from it. This book made me want to read again. Very enjoyable.\"\n",
            "\n"
          ]
        }
      ]
    },
    {
      "cell_type": "code",
      "source": [
        "train_df = pd.read_csv(train_path, header=None, names=[\"label\",\"title\",\"review\"], quoting=csv.QUOTE_MINIMAL, quotechar='\"', on_bad_lines='skip', engine='python')"
      ],
      "metadata": {
        "id": "yr1Q_RVJz0wF"
      },
      "execution_count": 5,
      "outputs": []
    },
    {
      "cell_type": "code",
      "source": [
        "test_df = pd.read_csv(test_path, header=None,names=[\"label\",\"title\",\"review\"], quoting=csv.QUOTE_MINIMAL, quotechar='\"', on_bad_lines='skip', engine='python')"
      ],
      "metadata": {
        "id": "C48TCJZg0gUm"
      },
      "execution_count": 6,
      "outputs": []
    },
    {
      "cell_type": "markdown",
      "source": [
        "**Data Preprocessing Steps:-**"
      ],
      "metadata": {
        "id": "rCZBe7v41eL5"
      }
    },
    {
      "cell_type": "markdown",
      "source": [
        "1. removes duplicate rows and rows with missing values in the \"label\" or \"review\" columns from the train and test set."
      ],
      "metadata": {
        "id": "VsNWwG5T2NA0"
      }
    },
    {
      "cell_type": "code",
      "source": [
        "train_df = train_df.drop_duplicates().dropna(subset=[\"label\",\"review\"])\n",
        "test_df  = test_df.drop_duplicates().dropna(subset=[\"label\",\"review\"])"
      ],
      "metadata": {
        "id": "i0ol8-pg1McQ"
      },
      "execution_count": 7,
      "outputs": []
    },
    {
      "cell_type": "markdown",
      "source": [
        "2. Accept only labels 1(neg) and 2(pos)"
      ],
      "metadata": {
        "id": "lrXhDA3v4Zui"
      }
    },
    {
      "cell_type": "code",
      "source": [
        "train_df = train_df[train_df[\"label\"].isin([1,2])]\n",
        "test_df  = test_df[test_df[\"label\"].isin([1,2])]\n"
      ],
      "metadata": {
        "id": "nT-02luN14xc"
      },
      "execution_count": 10,
      "outputs": []
    },
    {
      "cell_type": "markdown",
      "source": [
        "3. combine title + review\n",
        "- concats the title & review into 1 cleaned text field (handling missing values) so, can preprocess/tokenize a single input for the model."
      ],
      "metadata": {
        "id": "DX1nhJli7If1"
      }
    },
    {
      "cell_type": "code",
      "source": [
        "train_df[\"text\"] = (train_df[\"title\"].fillna(\"\") + \" \" + train_df[\"review\"].fillna(\"\")).str.strip()\n",
        "test_df[\"text\"]  = (test_df[\"title\"].fillna(\"\")  + \" \" + test_df[\"review\"].fillna(\"\")).str.strip()\n"
      ],
      "metadata": {
        "id": "1YfsHVAM4c0d"
      },
      "execution_count": 44,
      "outputs": []
    },
    {
      "cell_type": "markdown",
      "source": [
        "4. Map labels: 1->0 (negative), 2->1 (positive)"
      ],
      "metadata": {
        "id": "K0zTXdjN8cdO"
      }
    },
    {
      "cell_type": "code",
      "source": [
        "train_df[\"y\"] = (train_df[\"label\"] == 2).astype(int)\n",
        "test_df[\"y\"]  = (test_df[\"label\"] == 2).astype(int)"
      ],
      "metadata": {
        "id": "t5Ny1oK38C-x"
      },
      "execution_count": 45,
      "outputs": []
    },
    {
      "cell_type": "markdown",
      "source": [
        "5. class distribution"
      ],
      "metadata": {
        "id": "BLFabPIe-s-v"
      }
    },
    {
      "cell_type": "code",
      "source": [
        "print(\"Class counts (train):\")\n",
        "print(train_df[\"y\"].value_counts().rename({0:\"negative\",1:\"positive\"}))\n",
        "print(\"+ve %age:\", round(train_df[\"y\"].mean()*100, 2), \"%\")"
      ],
      "metadata": {
        "colab": {
          "base_uri": "https://localhost:8080/"
        },
        "id": "eXstwcJn8uo3",
        "outputId": "4cb6d932-5626-46c4-c2fc-66251473a0ed"
      },
      "execution_count": 17,
      "outputs": [
        {
          "output_type": "stream",
          "name": "stdout",
          "text": [
            "Class counts (train):\n",
            "y\n",
            "positive    63870\n",
            "negative    62258\n",
            "Name: count, dtype: int64\n",
            "+ve %age: 50.64 %\n"
          ]
        }
      ]
    },
    {
      "cell_type": "code",
      "source": [
        "train_lengths = train_df[\"text\"].str.split().apply(len)\n",
        "print(\"\\nReview length (words) summary (train):\")\n",
        "print(train_lengths.describe(percentiles=[.5,.75,.90,.95]))"
      ],
      "metadata": {
        "colab": {
          "base_uri": "https://localhost:8080/"
        },
        "id": "V0JpNncI-0Te",
        "outputId": "03199ea0-0b72-48c0-cf02-ca86b4e27427"
      },
      "execution_count": 22,
      "outputs": [
        {
          "output_type": "stream",
          "name": "stdout",
          "text": [
            "\n",
            "Review length (words) summary (train):\n",
            "count    126128.000000\n",
            "mean         79.924624\n",
            "std          43.236601\n",
            "min          10.000000\n",
            "50%          72.000000\n",
            "75%         110.000000\n",
            "90%         146.000000\n",
            "95%         162.000000\n",
            "max         241.000000\n",
            "Name: text, dtype: float64\n"
          ]
        }
      ]
    },
    {
      "cell_type": "markdown",
      "source": [
        "**Text preprocessing**"
      ],
      "metadata": {
        "id": "9hTKnFIhF_mH"
      }
    },
    {
      "cell_type": "code",
      "source": [
        "import re, string\n",
        "from sklearn.feature_extraction.text import ENGLISH_STOP_WORDS\n",
        "from nltk.stem import WordNetLemmatizer\n",
        "import nltk\n",
        "nltk.download('wordnet') # Download wordnet data\n",
        "nltk.download('omw-1.4') # Download open multilingual wordnet data\n",
        "\n",
        "url_re   = re.compile(r'(https?://\\S+|www\\.\\S+)')\n",
        "num_re   = re.compile(r'\\d+')\n",
        "punct_tbl = str.maketrans('', '', string.punctuation)\n",
        "stop     = set(ENGLISH_STOP_WORDS)\n",
        "\n",
        "lemmatizer = WordNetLemmatizer()\n",
        "\n",
        "def clean_text(s):\n",
        "    s = str(s).lower() #lowercase\n",
        "    s = url_re.sub(' ', s) # remove URLs\n",
        "    s = num_re.sub(' ', s)  # remove numbers\n",
        "    s = s.translate(punct_tbl) # remove punctuation\n",
        "    toks = [w for w in s.split() if w not in stop and len(w) > 2]\n",
        "    toks = [lemmatizer.lemmatize(w) for w in toks]  # Added lemmatization\n",
        "    return ' '.join(toks)\n",
        "\n",
        "train_df['clean'] = train_df['text'].apply(clean_text)\n",
        "test_df['clean']  = test_df['text'].apply(clean_text)\n",
        "\n",
        "#Drop empty rows\n",
        "train_df = train_df[train_df['clean'].str.strip().astype(bool)]\n",
        "test_df  = test_df[test_df['clean'].str.strip().astype(bool)]"
      ],
      "metadata": {
        "colab": {
          "base_uri": "https://localhost:8080/"
        },
        "id": "nmVCza1bAttD",
        "outputId": "fdb9dc0f-de38-4c09-c7d8-5129cc448522"
      },
      "execution_count": 49,
      "outputs": [
        {
          "output_type": "stream",
          "name": "stderr",
          "text": [
            "[nltk_data] Downloading package wordnet to /root/nltk_data...\n",
            "[nltk_data]   Package wordnet is already up-to-date!\n",
            "[nltk_data] Downloading package omw-1.4 to /root/nltk_data...\n",
            "[nltk_data]   Package omw-1.4 is already up-to-date!\n"
          ]
        }
      ]
    },
    {
      "cell_type": "markdown",
      "source": [
        " Tokenize the processed text"
      ],
      "metadata": {
        "id": "k5SqxPBHF6jx"
      }
    },
    {
      "cell_type": "code",
      "source": [
        "from tensorflow.keras.preprocessing.text import Tokenizer\n",
        "from tensorflow.keras.preprocessing.sequence import pad_sequences\n",
        "from tensorflow.keras.layers import Embedding\n",
        "\n",
        "MAX_VOCAB = 20000\n",
        "MAX_LEN   = 256\n",
        "\n",
        "# tokenize (fit on TRAIN only)\n",
        "tok = Tokenizer(num_words=MAX_VOCAB, oov_token=\"<OOV>\")\n",
        "tok.fit_on_texts(train_df['clean'])\n",
        "\n",
        "X_train = pad_sequences(tok.texts_to_sequences(train_df['clean']), maxlen=MAX_LEN)\n",
        "X_test  = pad_sequences(tok.texts_to_sequences(test_df['clean']),  maxlen=MAX_LEN)\n",
        "y_train = train_df['y'].values\n",
        "y_test  = test_df['y'].values\n",
        "\n",
        "print(\"Shapes:\", X_train.shape, y_train.shape, X_test.shape, y_test.shape)\n"
      ],
      "metadata": {
        "colab": {
          "base_uri": "https://localhost:8080/"
        },
        "id": "l4wIIXpoEBZj",
        "outputId": "b73ee96c-e48d-4c97-d3d5-48e6561e4317"
      },
      "execution_count": 62,
      "outputs": [
        {
          "output_type": "stream",
          "name": "stdout",
          "text": [
            "Shapes: (126128, 256) (126128,) (131757, 256) (131757,)\n"
          ]
        }
      ]
    },
    {
      "cell_type": "code",
      "source": [
        "from tensorflow.keras.models import Sequential\n",
        "from tensorflow.keras.layers import Input, Embedding, Bidirectional, LSTM, GlobalMaxPool1D, Dense, Dropout\n",
        "\n",
        "vocab_size = min(MAX_VOCAB, len(tok.word_index)+1)\n",
        "EMBED_DIM  = 128\n",
        "LSTM_UNITS = 64\n",
        "\n",
        "model = Sequential([Input(shape=(MAX_LEN,), dtype='int32'), Embedding(vocab_size, EMBED_DIM), Bidirectional(LSTM(LSTM_UNITS, return_sequences=True)), GlobalMaxPool1D(), Dense(64, activation='relu'), Dropout(0.3), Dense(1, activation='sigmoid')])\n",
        "model.compile(optimizer='adam', loss='binary_crossentropy', metrics=['accuracy'])\n",
        "model.summary()"
      ],
      "metadata": {
        "colab": {
          "base_uri": "https://localhost:8080/",
          "height": 339
        },
        "id": "Z5XsYe7IEyvJ",
        "outputId": "14575bda-4e1c-4fae-df7b-40cfc186fc00"
      },
      "execution_count": 63,
      "outputs": [
        {
          "output_type": "display_data",
          "data": {
            "text/plain": [
              "\u001b[1mModel: \"sequential_5\"\u001b[0m\n"
            ],
            "text/html": [
              "<pre style=\"white-space:pre;overflow-x:auto;line-height:normal;font-family:Menlo,'DejaVu Sans Mono',consolas,'Courier New',monospace\"><span style=\"font-weight: bold\">Model: \"sequential_5\"</span>\n",
              "</pre>\n"
            ]
          },
          "metadata": {}
        },
        {
          "output_type": "display_data",
          "data": {
            "text/plain": [
              "┏━━━━━━━━━━━━━━━━━━━━━━━━━━━━━━━━━┳━━━━━━━━━━━━━━━━━━━━━━━━┳━━━━━━━━━━━━━━━┓\n",
              "┃\u001b[1m \u001b[0m\u001b[1mLayer (type)                   \u001b[0m\u001b[1m \u001b[0m┃\u001b[1m \u001b[0m\u001b[1mOutput Shape          \u001b[0m\u001b[1m \u001b[0m┃\u001b[1m \u001b[0m\u001b[1m      Param #\u001b[0m\u001b[1m \u001b[0m┃\n",
              "┡━━━━━━━━━━━━━━━━━━━━━━━━━━━━━━━━━╇━━━━━━━━━━━━━━━━━━━━━━━━╇━━━━━━━━━━━━━━━┩\n",
              "│ embedding_5 (\u001b[38;5;33mEmbedding\u001b[0m)         │ (\u001b[38;5;45mNone\u001b[0m, \u001b[38;5;34m256\u001b[0m, \u001b[38;5;34m128\u001b[0m)       │     \u001b[38;5;34m2,560,000\u001b[0m │\n",
              "├─────────────────────────────────┼────────────────────────┼───────────────┤\n",
              "│ bidirectional_5 (\u001b[38;5;33mBidirectional\u001b[0m) │ (\u001b[38;5;45mNone\u001b[0m, \u001b[38;5;34m256\u001b[0m, \u001b[38;5;34m128\u001b[0m)       │        \u001b[38;5;34m98,816\u001b[0m │\n",
              "├─────────────────────────────────┼────────────────────────┼───────────────┤\n",
              "│ global_max_pooling1d_1          │ (\u001b[38;5;45mNone\u001b[0m, \u001b[38;5;34m128\u001b[0m)            │             \u001b[38;5;34m0\u001b[0m │\n",
              "│ (\u001b[38;5;33mGlobalMaxPooling1D\u001b[0m)            │                        │               │\n",
              "├─────────────────────────────────┼────────────────────────┼───────────────┤\n",
              "│ dense_6 (\u001b[38;5;33mDense\u001b[0m)                 │ (\u001b[38;5;45mNone\u001b[0m, \u001b[38;5;34m64\u001b[0m)             │         \u001b[38;5;34m8,256\u001b[0m │\n",
              "├─────────────────────────────────┼────────────────────────┼───────────────┤\n",
              "│ dropout_1 (\u001b[38;5;33mDropout\u001b[0m)             │ (\u001b[38;5;45mNone\u001b[0m, \u001b[38;5;34m64\u001b[0m)             │             \u001b[38;5;34m0\u001b[0m │\n",
              "├─────────────────────────────────┼────────────────────────┼───────────────┤\n",
              "│ dense_7 (\u001b[38;5;33mDense\u001b[0m)                 │ (\u001b[38;5;45mNone\u001b[0m, \u001b[38;5;34m1\u001b[0m)              │            \u001b[38;5;34m65\u001b[0m │\n",
              "└─────────────────────────────────┴────────────────────────┴───────────────┘\n"
            ],
            "text/html": [
              "<pre style=\"white-space:pre;overflow-x:auto;line-height:normal;font-family:Menlo,'DejaVu Sans Mono',consolas,'Courier New',monospace\">┏━━━━━━━━━━━━━━━━━━━━━━━━━━━━━━━━━┳━━━━━━━━━━━━━━━━━━━━━━━━┳━━━━━━━━━━━━━━━┓\n",
              "┃<span style=\"font-weight: bold\"> Layer (type)                    </span>┃<span style=\"font-weight: bold\"> Output Shape           </span>┃<span style=\"font-weight: bold\">       Param # </span>┃\n",
              "┡━━━━━━━━━━━━━━━━━━━━━━━━━━━━━━━━━╇━━━━━━━━━━━━━━━━━━━━━━━━╇━━━━━━━━━━━━━━━┩\n",
              "│ embedding_5 (<span style=\"color: #0087ff; text-decoration-color: #0087ff\">Embedding</span>)         │ (<span style=\"color: #00d7ff; text-decoration-color: #00d7ff\">None</span>, <span style=\"color: #00af00; text-decoration-color: #00af00\">256</span>, <span style=\"color: #00af00; text-decoration-color: #00af00\">128</span>)       │     <span style=\"color: #00af00; text-decoration-color: #00af00\">2,560,000</span> │\n",
              "├─────────────────────────────────┼────────────────────────┼───────────────┤\n",
              "│ bidirectional_5 (<span style=\"color: #0087ff; text-decoration-color: #0087ff\">Bidirectional</span>) │ (<span style=\"color: #00d7ff; text-decoration-color: #00d7ff\">None</span>, <span style=\"color: #00af00; text-decoration-color: #00af00\">256</span>, <span style=\"color: #00af00; text-decoration-color: #00af00\">128</span>)       │        <span style=\"color: #00af00; text-decoration-color: #00af00\">98,816</span> │\n",
              "├─────────────────────────────────┼────────────────────────┼───────────────┤\n",
              "│ global_max_pooling1d_1          │ (<span style=\"color: #00d7ff; text-decoration-color: #00d7ff\">None</span>, <span style=\"color: #00af00; text-decoration-color: #00af00\">128</span>)            │             <span style=\"color: #00af00; text-decoration-color: #00af00\">0</span> │\n",
              "│ (<span style=\"color: #0087ff; text-decoration-color: #0087ff\">GlobalMaxPooling1D</span>)            │                        │               │\n",
              "├─────────────────────────────────┼────────────────────────┼───────────────┤\n",
              "│ dense_6 (<span style=\"color: #0087ff; text-decoration-color: #0087ff\">Dense</span>)                 │ (<span style=\"color: #00d7ff; text-decoration-color: #00d7ff\">None</span>, <span style=\"color: #00af00; text-decoration-color: #00af00\">64</span>)             │         <span style=\"color: #00af00; text-decoration-color: #00af00\">8,256</span> │\n",
              "├─────────────────────────────────┼────────────────────────┼───────────────┤\n",
              "│ dropout_1 (<span style=\"color: #0087ff; text-decoration-color: #0087ff\">Dropout</span>)             │ (<span style=\"color: #00d7ff; text-decoration-color: #00d7ff\">None</span>, <span style=\"color: #00af00; text-decoration-color: #00af00\">64</span>)             │             <span style=\"color: #00af00; text-decoration-color: #00af00\">0</span> │\n",
              "├─────────────────────────────────┼────────────────────────┼───────────────┤\n",
              "│ dense_7 (<span style=\"color: #0087ff; text-decoration-color: #0087ff\">Dense</span>)                 │ (<span style=\"color: #00d7ff; text-decoration-color: #00d7ff\">None</span>, <span style=\"color: #00af00; text-decoration-color: #00af00\">1</span>)              │            <span style=\"color: #00af00; text-decoration-color: #00af00\">65</span> │\n",
              "└─────────────────────────────────┴────────────────────────┴───────────────┘\n",
              "</pre>\n"
            ]
          },
          "metadata": {}
        },
        {
          "output_type": "display_data",
          "data": {
            "text/plain": [
              "\u001b[1m Total params: \u001b[0m\u001b[38;5;34m2,667,137\u001b[0m (10.17 MB)\n"
            ],
            "text/html": [
              "<pre style=\"white-space:pre;overflow-x:auto;line-height:normal;font-family:Menlo,'DejaVu Sans Mono',consolas,'Courier New',monospace\"><span style=\"font-weight: bold\"> Total params: </span><span style=\"color: #00af00; text-decoration-color: #00af00\">2,667,137</span> (10.17 MB)\n",
              "</pre>\n"
            ]
          },
          "metadata": {}
        },
        {
          "output_type": "display_data",
          "data": {
            "text/plain": [
              "\u001b[1m Trainable params: \u001b[0m\u001b[38;5;34m2,667,137\u001b[0m (10.17 MB)\n"
            ],
            "text/html": [
              "<pre style=\"white-space:pre;overflow-x:auto;line-height:normal;font-family:Menlo,'DejaVu Sans Mono',consolas,'Courier New',monospace\"><span style=\"font-weight: bold\"> Trainable params: </span><span style=\"color: #00af00; text-decoration-color: #00af00\">2,667,137</span> (10.17 MB)\n",
              "</pre>\n"
            ]
          },
          "metadata": {}
        },
        {
          "output_type": "display_data",
          "data": {
            "text/plain": [
              "\u001b[1m Non-trainable params: \u001b[0m\u001b[38;5;34m0\u001b[0m (0.00 B)\n"
            ],
            "text/html": [
              "<pre style=\"white-space:pre;overflow-x:auto;line-height:normal;font-family:Menlo,'DejaVu Sans Mono',consolas,'Courier New',monospace\"><span style=\"font-weight: bold\"> Non-trainable params: </span><span style=\"color: #00af00; text-decoration-color: #00af00\">0</span> (0.00 B)\n",
              "</pre>\n"
            ]
          },
          "metadata": {}
        }
      ]
    },
    {
      "cell_type": "code",
      "source": [
        "from tensorflow.keras.callbacks import EarlyStopping, ModelCheckpoint\n",
        "\n",
        "es = EarlyStopping(monitor='val_loss', patience=1, restore_best_weights=True)\n",
        "ckpt = ModelCheckpoint('/content/best.keras', monitor='val_loss', save_best_only=True)\n",
        "\n",
        "history = model.fit(\n",
        "    X_train, y_train,\n",
        "    epochs=10,\n",
        "    batch_size=128,\n",
        "    validation_split=0.2,\n",
        "    callbacks=[es, ckpt],\n",
        "    verbose=1\n",
        ")"
      ],
      "metadata": {
        "colab": {
          "base_uri": "https://localhost:8080/"
        },
        "id": "zjzqXHieHnjf",
        "outputId": "a7ff2959-b459-45ba-f096-3366da737e81"
      },
      "execution_count": 64,
      "outputs": [
        {
          "output_type": "stream",
          "name": "stdout",
          "text": [
            "Epoch 1/10\n",
            "\u001b[1m789/789\u001b[0m \u001b[32m━━━━━━━━━━━━━━━━━━━━\u001b[0m\u001b[37m\u001b[0m \u001b[1m28s\u001b[0m 33ms/step - accuracy: 0.7964 - loss: 0.4169 - val_accuracy: 0.8848 - val_loss: 0.2750\n",
            "Epoch 2/10\n",
            "\u001b[1m789/789\u001b[0m \u001b[32m━━━━━━━━━━━━━━━━━━━━\u001b[0m\u001b[37m\u001b[0m \u001b[1m26s\u001b[0m 33ms/step - accuracy: 0.9157 - loss: 0.2185 - val_accuracy: 0.8834 - val_loss: 0.2869\n"
          ]
        }
      ]
    },
    {
      "cell_type": "code",
      "source": [
        "from sklearn.metrics import precision_recall_curve, accuracy_score, precision_recall_fscore_support\n",
        "\n",
        "y_prob = model.predict(X_test).ravel()\n",
        "prec, rec, thr = precision_recall_curve(y_test, y_prob)\n",
        "f1 = 2*prec*rec/(prec+rec+1e-9)\n",
        "best_thr = thr[f1.argmax()]\n",
        "y_pred = (y_prob >= best_thr).astype(int)\n",
        "\n",
        "acc = accuracy_score(y_test, y_pred)\n",
        "p, r, f1s, _ = precision_recall_fscore_support(y_test, y_pred, average='binary', zero_division=0)\n",
        "print(f\"Best threshold: {best_thr:.3f} | Acc: {acc:.4f} | P: {p:.4f} | R: {r:.4f} | F1: {f1s:.4f}\")"
      ],
      "metadata": {
        "colab": {
          "base_uri": "https://localhost:8080/"
        },
        "id": "j5dc1KEaIPuZ",
        "outputId": "c9023cf3-ec2b-4b0c-a812-74d81e607ced"
      },
      "execution_count": 65,
      "outputs": [
        {
          "output_type": "stream",
          "name": "stdout",
          "text": [
            "\u001b[1m4118/4118\u001b[0m \u001b[32m━━━━━━━━━━━━━━━━━━━━\u001b[0m\u001b[37m\u001b[0m \u001b[1m32s\u001b[0m 8ms/step\n",
            "Best threshold: 0.390 | Acc: 0.8812 | P: 0.8621 | R: 0.9107 | F1: 0.8857\n"
          ]
        }
      ]
    }
  ]
}